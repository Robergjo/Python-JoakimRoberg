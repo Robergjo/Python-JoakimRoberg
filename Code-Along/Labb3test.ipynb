{
 "cells": [
  {
   "cell_type": "code",
   "execution_count": 8,
   "metadata": {},
   "outputs": [
    {
     "name": "stdout",
     "output_type": "stream",
     "text": [
      "False\n",
      "Point (0.5, 0.5) is inside Circle 1: True\n",
      "Circle 1 perimiter: 6.283185307179586\n"
     ]
    }
   ],
   "source": [
    "from geometry_shapes import Circle, Rectangle\n",
    "\n",
    "circle1 = Circle(x=0, y=0, radius=1)\n",
    "circle2 = Circle(x=1, y=1, radius=1)\n",
    "\n",
    "print(circle1==circle2)\n",
    "\n",
    "print(\"Point (0.5, 0.5) is inside Circle 1:\", circle1.is_inside(0.5, 0.5))\n",
    "print(\"Circle 1 perimiter:\", circle1.perimeter)"
   ]
  },
  {
   "cell_type": "markdown",
   "metadata": {},
   "source": []
  }
 ],
 "metadata": {
  "kernelspec": {
   "display_name": "Python-JoakimRoberg-Gg7RWbSB",
   "language": "python",
   "name": "python3"
  },
  "language_info": {
   "codemirror_mode": {
    "name": "ipython",
    "version": 3
   },
   "file_extension": ".py",
   "mimetype": "text/x-python",
   "name": "python",
   "nbconvert_exporter": "python",
   "pygments_lexer": "ipython3",
   "version": "3.11.5"
  },
  "orig_nbformat": 4
 },
 "nbformat": 4,
 "nbformat_minor": 2
}
