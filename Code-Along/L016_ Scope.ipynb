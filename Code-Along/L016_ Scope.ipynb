{
 "cells": [
  {
   "cell_type": "markdown",
   "metadata": {},
   "source": [
    "# in Python we have two tipes of Scope, life-time of a variable( hur länge är variabeln giltlig i koden)\n",
    "# Local scope: Only avaible locally in a function\n",
    "# Global scope: avaible through execution of program"
   ]
  },
  {
   "cell_type": "code",
   "execution_count": 5,
   "metadata": {},
   "outputs": [
    {
     "name": "stdout",
     "output_type": "stream",
     "text": [
      "Joakim\n",
      "Joakim\n",
      "Joakim\n"
     ]
    }
   ],
   "source": [
    "\n",
    "name = \"Joakim\"\n",
    "\n",
    "def main():\n",
    "    global name\n",
    "    name = \"Gurra\"\n",
    "    print(name)\n",
    "    \n",
    "print(name)\n",
    "main()\n",
    "print(name)\n",
    "# Python doesnt have block scope, but this is used in most other languages, such ass c#, c++, java\n",
    "# if name == \"Joakim\":\n",
    "#     last_name = \"Roberg\"\n",
    "\n",
    "#  print(last_name)\n",
    "\n",
    "# for i in range(3):\n",
    "#     print(i)\n",
    "\n",
    "# print (f\"i = {i}\")\n"
   ]
  }
 ],
 "metadata": {
  "kernelspec": {
   "display_name": "Python-JoakimRoberg-Gg7RWbSB",
   "language": "python",
   "name": "python3"
  },
  "language_info": {
   "codemirror_mode": {
    "name": "ipython",
    "version": 3
   },
   "file_extension": ".py",
   "mimetype": "text/x-python",
   "name": "python",
   "nbconvert_exporter": "python",
   "pygments_lexer": "ipython3",
   "version": "3.11.5"
  },
  "orig_nbformat": 4
 },
 "nbformat": 4,
 "nbformat_minor": 2
}
