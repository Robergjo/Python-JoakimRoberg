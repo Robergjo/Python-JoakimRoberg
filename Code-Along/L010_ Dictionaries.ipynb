{
 "cells": [
  {
   "cell_type": "markdown",
   "metadata": {},
   "source": [
    "# Dictionaries\n",
    "- Are used to store data in **key-value** pairs\n",
    "- keys are used to access values, and must be unique\n",
    "- Only immutable types (string, int, float, bool) can be used as keys\n"
   ]
  },
  {
   "cell_type": "code",
   "execution_count": 12,
   "metadata": {},
   "outputs": [
    {
     "name": "stdout",
     "output_type": "stream",
     "text": [
      "len(teacher) = 5\n",
      "teacher = {'firstname': 'Fredrik', 'lastname': 'Johansson', 'age': 42, 'languages': ['python', 'c#', 'javascript'], 'contactinfo': {'phone': '070123456', 'email': 'Roberg@hotmail.se'}, 'lenght': 1.8}\n",
      "teacher = {'firstname': 'Fredrik', 'age': 42, 'languages': ['python', 'c#', 'javascript'], 'contactinfo': {'phone': '070123456', 'email': 'Roberg@hotmail.se'}, 'lenght': 1.8}\n",
      "removed_value = 'Johansson'\n"
     ]
    }
   ],
   "source": [
    "# create empty dictionary\n",
    "empty_dictionary = {}\n",
    "\n",
    "\n",
    "#create dictionary with items\n",
    "teacher = {\"firstname\": \"Fredrik\",\n",
    "            \"lastname\": \"Johansson\",\n",
    "              \"age\": 42, \n",
    "              \"languages\": [\"python\", \"c#\", \"javascript\"],\n",
    "              \"contactinfo\": {\n",
    "                  \"phone\": \"070123456\",\n",
    "                  \"email\": \"Roberg@hotmail.se\"\n",
    "              }\n",
    "}\n",
    "\n",
    "# get numbers of items in dictionary\n",
    "print(f\"{len(teacher) = }\")\n",
    "\n",
    "# add key to dictionary\n",
    "teacher[\"lenght\"] = 1.80\n",
    "\n",
    "print(f\"{teacher = }\")\n",
    "\n",
    "# remove key and return value from dictionary\n",
    "\n",
    "removed_value = teacher.pop(\"lastname\")\n",
    "\n",
    "print(f\"{teacher = }\")\n",
    "print(f\"{removed_value = }\")\n"
   ]
  }
 ],
 "metadata": {
  "kernelspec": {
   "display_name": "Python-JoakimRoberg-Gg7RWbSB",
   "language": "python",
   "name": "python3"
  },
  "language_info": {
   "codemirror_mode": {
    "name": "ipython",
    "version": 3
   },
   "file_extension": ".py",
   "mimetype": "text/x-python",
   "name": "python",
   "nbconvert_exporter": "python",
   "pygments_lexer": "ipython3",
   "version": "3.11.5"
  },
  "orig_nbformat": 4
 },
 "nbformat": 4,
 "nbformat_minor": 2
}
