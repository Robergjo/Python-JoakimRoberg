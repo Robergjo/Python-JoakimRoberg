{
 "cells": [
  {
   "cell_type": "markdown",
   "metadata": {},
   "source": [
    "# Inheritance"
   ]
  },
  {
   "cell_type": "code",
   "execution_count": 3,
   "metadata": {},
   "outputs": [
    {
     "name": "stdout",
     "output_type": "stream",
     "text": [
      "Pelle is running\n",
      "Gurra is running\n",
      "Gurra is barking LOUD: VOFF!!\n",
      "Nemo is swimming\n",
      "Kalle is running\n",
      "Kalle is barking: voff!\n"
     ]
    }
   ],
   "source": [
    "class Animal:\n",
    "    def __init__(self, name, is_loud=False):\n",
    "        self.name = name\n",
    "        self.is_loud = is_loud\n",
    "    \n",
    "    def __repr__(self):\n",
    "        return f\"My name is {self.name}, and i am a {type(self)}\"\n",
    "    \n",
    "    def move(self):\n",
    "        print(f\"{self.name} is running\")\n",
    "    \n",
    "class Cat(Animal):\n",
    "    ...\n",
    "\n",
    "\n",
    "class Dog(Animal):\n",
    "    def bark(self):\n",
    "        if self.is_loud:\n",
    "            print(f\"{self.name} is barking LOUD: VOFF!!\")\n",
    "        else:\n",
    "            print(f\"{self.name} is barking: voff!\")\n",
    "\n",
    "class Fish(Animal):\n",
    "    # Method override\n",
    "    def move(self):\n",
    "        print(f\"{self.name} is swimming\")\n",
    "    \n",
    "\n",
    "animals = [\n",
    "    Cat(\"Pelle\"),\n",
    "    Dog(\"Gurra\", is_loud=True),\n",
    "    Fish(\"Nemo\"),\n",
    "    Dog(\"Kalle\", is_loud=False)\n",
    "]\n",
    "\n",
    "for animal in animals:\n",
    "    animal.move()\n",
    "    #if type(animal) == Dog:\n",
    "    if isinstance(animal, Dog):\n",
    "        animal.bark()\n",
    "\n",
    "\n"
   ]
  }
 ],
 "metadata": {
  "kernelspec": {
   "display_name": "Python-JoakimRoberg-Gg7RWbSB",
   "language": "python",
   "name": "python3"
  },
  "language_info": {
   "codemirror_mode": {
    "name": "ipython",
    "version": 3
   },
   "file_extension": ".py",
   "mimetype": "text/x-python",
   "name": "python",
   "nbconvert_exporter": "python",
   "pygments_lexer": "ipython3",
   "version": "3.11.5"
  },
  "orig_nbformat": 4
 },
 "nbformat": 4,
 "nbformat_minor": 2
}
