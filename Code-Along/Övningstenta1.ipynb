{
 "cells": [
  {
   "cell_type": "code",
   "execution_count": 49,
   "metadata": {},
   "outputs": [
    {
     "name": "stdout",
     "output_type": "stream",
     "text": [
      "{'name': 'kelly', 'age': 25, 'salary': 8000, 'location': 'New york'}\n"
     ]
    }
   ],
   "source": [
    "sample_dict = {\n",
    "    \"name\": \"kelly\",\n",
    "    \"age\": 25,\n",
    "    \"salary\": 8000,\n",
    "    \"city\": \"New york\"\n",
    "}\n",
    "\n",
    "sample_dict[\"location\"] = sample_dict[\"city\"]\n",
    "del(sample_dict[\"city\"])\n",
    "\n",
    "\n",
    "print(sample_dict)"
   ]
  },
  {
   "cell_type": "code",
   "execution_count": 45,
   "metadata": {},
   "outputs": [
    {
     "name": "stdout",
     "output_type": "stream",
     "text": [
      "* \n",
      "* * \n",
      "* * * \n",
      "* * * * \n",
      "* * * * * \n",
      "* * * * \n",
      "* * * \n",
      "* * \n",
      "* \n"
     ]
    }
   ],
   "source": [
    "# def pattern(n = 5):\n",
    "#     for y in range(n*2 - 1):\n",
    "#         for x in range(y)\n",
    "\n",
    "\n",
    "\n",
    "\n",
    "# pattern()\n",
    "\n",
    "def print_pattern(n):\n",
    "    for y in range(1, n + 1):\n",
    "        print('* ' * y)\n",
    "    for x in range(n - 1, 0, -1):\n",
    "        print('* ' * x)\n",
    "\n",
    "# Ange det önskade antalet rader i mönstret\n",
    "n = 5\n",
    "print_pattern(n)"
   ]
  },
  {
   "cell_type": "code",
   "execution_count": 36,
   "metadata": {},
   "outputs": [
    {
     "name": "stdout",
     "output_type": "stream",
     "text": [
      "x x x x x \n",
      "x o x o x \n",
      "x x x x x \n",
      "x o x o x \n",
      "x x x x x \n"
     ]
    }
   ],
   "source": [
    "def pattern(n):\n",
    "    for y in range(n):\n",
    "        for x in range(n):\n",
    "            if y % 2 == 0:\n",
    "                print('x', end=' ')\n",
    "            else:\n",
    "                if x % 2 == 0:\n",
    "                    print('x', end=' ')\n",
    "                else:\n",
    "                    print('o', end=' ')\n",
    "        print()\n",
    "pattern(5)\n"
   ]
  },
  {
   "cell_type": "code",
   "execution_count": 3,
   "metadata": {},
   "outputs": [
    {
     "ename": "IndentationError",
     "evalue": "expected an indented block after function definition on line 11 (2733212828.py, line 12)",
     "output_type": "error",
     "traceback": [
      "\u001b[1;36m  Cell \u001b[1;32mIn[3], line 12\u001b[1;36m\u001b[0m\n\u001b[1;33m    return f\"Fish: {self.name}\"\u001b[0m\n\u001b[1;37m    ^\u001b[0m\n\u001b[1;31mIndentationError\u001b[0m\u001b[1;31m:\u001b[0m expected an indented block after function definition on line 11\n"
     ]
    }
   ],
   "source": [
    "class Animal:\n",
    "    def __init__(self, name):\n",
    "        self.name = name\n",
    "def __str__(self):\n",
    "    return f\"Animal {self.name}\"\n",
    "class Dog(Animal):\n",
    " # notera att __init__ är nedärvd\n",
    "    def __repr__(self):\n",
    "        return f\"Dog: {self.name}\"\n",
    "class Fish(Animal):\n",
    "    def __repr__(self):\n",
    "    return f\"Fish: {self.name}\"\n",
    "\n",
    "class PetOwner:\n",
    "  \n",
    "\n",
    "# Manuell test av PetOwner\n",
    "owner1 = PetOwner(\"Ada\", [Dog(\"Snoopy\"), Dog(\"Pluto\")], [Fish(\"Fishy\"), Fish(\"Buppy\")])\n",
    "owner2 = PetOwner(\"Beda\", [Dog(\"Barkly\")])\n",
    "\n",
    "print(owner1)\n",
    "print(owner2)\n"
   ]
  },
  {
   "cell_type": "code",
   "execution_count": 40,
   "metadata": {},
   "outputs": [
    {
     "name": "stdout",
     "output_type": "stream",
     "text": [
      " Volymen är  15.71\n"
     ]
    }
   ],
   "source": [
    "import math\n",
    "\n",
    "def beräkna_volym(radie, höjd):\n",
    "    try:\n",
    "        r, h= float(radie), float(höjd)\n",
    "        if r < 0 or h < 0: raise ValueError\n",
    "        return f\" Volymen är {math.pi * r**2 * h: .2f}\"\n",
    "    except ValueError:\n",
    "        return \"Fel inmatning\"\n",
    "\n",
    "radie = input(\"Ange radie: \")\n",
    "höjd = input(\"Ange höjd: \")\n",
    "print(beräkna_volym(radie, höjd))\n"
   ]
  },
  {
   "cell_type": "code",
   "execution_count": 13,
   "metadata": {},
   "outputs": [
    {
     "name": "stdout",
     "output_type": "stream",
     "text": [
      "Antal 1: 166604\n",
      "Antal 2: 166331\n",
      "Antal 3: 167136\n",
      "Antal 4: 166686\n",
      "Antal 5: 166158\n",
      "Antal 6: 167085\n"
     ]
    }
   ],
   "source": [
    "import random\n",
    "\n",
    "# Skapa en dictionary för att räkna antalet tärningsresultat\n",
    "resultat = {1: 0, 2: 0, 3: 0, 4: 0, 5: 0, 6: 0}\n",
    "\n",
    "# Simulera 1 000 000 tärningskast\n",
    "for i in range(1000000):\n",
    "    kast = random.randint(1, 6)\n",
    "    resultat[kast] += 1\n",
    "\n",
    "# Skriv ut resultaten\n",
    "for nummer, antal in resultat.items():\n",
    "    print(f\"Antal {nummer}: {antal}\")\n"
   ]
  },
  {
   "cell_type": "code",
   "execution_count": null,
   "metadata": {},
   "outputs": [],
   "source": []
  }
 ],
 "metadata": {
  "kernelspec": {
   "display_name": "Python-JoakimRoberg-Gg7RWbSB",
   "language": "python",
   "name": "python3"
  },
  "language_info": {
   "codemirror_mode": {
    "name": "ipython",
    "version": 3
   },
   "file_extension": ".py",
   "mimetype": "text/x-python",
   "name": "python",
   "nbconvert_exporter": "python",
   "pygments_lexer": "ipython3",
   "version": "3.11.5"
  },
  "orig_nbformat": 4
 },
 "nbformat": 4,
 "nbformat_minor": 2
}
