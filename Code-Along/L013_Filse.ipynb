{
 "cells": [
  {
   "cell_type": "markdown",
   "metadata": {},
   "source": [
    "# Load and save data to files\n",
    "\n",
    "We can categorize files into two main categories, text files and binary files\n",
    "- Text files stores text / characters in a human readable format\n",
    "- Binary files stores byte data (1's and 0's) that only computers understand.\n",
    "- Datasets can be found at **Kaggle**\n",
    "\n",
    "## Common text based files to store data\n",
    "- .txt = Plain english (or other languages) text.\n",
    "- .csv\n",
    "- .json\n",
    "\n",
    "## File names and file paths\n",
    "\n",
    "A file name usually has two parts, the name and the file extension, separated with a dot (name.extension)\n",
    "\n",
    "e.g. hello.txt data.json myimage.jpg\n",
    "\n",
    "Paths can be expressed as either relative or absolute\n",
    "- **Absolute:** Full path to access a file or folder. example: c:\\users\\rober\\desktop\\myfile.txt\n",
    "- **Relative:** Relative from the current active folder: example: data\\data.json "
   ]
  },
  {
   "cell_type": "code",
   "execution_count": 1,
   "metadata": {},
   "outputs": [],
   "source": [
    "file = open(\"..\\Data\\hello.txt\")\n"
   ]
  }
 ],
 "metadata": {
  "kernelspec": {
   "display_name": "Python-JoakimRoberg-Gg7RWbSB",
   "language": "python",
   "name": "python3"
  },
  "language_info": {
   "codemirror_mode": {
    "name": "ipython",
    "version": 3
   },
   "file_extension": ".py",
   "mimetype": "text/x-python",
   "name": "python",
   "nbconvert_exporter": "python",
   "pygments_lexer": "ipython3",
   "version": "3.11.5"
  },
  "orig_nbformat": 4
 },
 "nbformat": 4,
 "nbformat_minor": 2
}
