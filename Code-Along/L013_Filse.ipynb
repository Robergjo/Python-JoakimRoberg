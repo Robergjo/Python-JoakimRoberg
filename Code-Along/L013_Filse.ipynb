{
 "cells": [
  {
   "cell_type": "markdown",
   "metadata": {},
   "source": [
    "# Load and save data to files\n",
    "\n",
    "We can categorize files into two main categories, text files and binary files\n",
    "- Text files stores text / characters in a human readable format\n",
    "- Binary files stores byte data (1's and 0's) that only computers understand.\n",
    "- Datasets can be found at **Kaggle**\n",
    "\n",
    "## Common text based files to store data\n",
    "- **.txt:** Plain english (or other languages) text.\n",
    "- **.csv:** Comma separated values\n",
    "- **.json:** \n",
    "\n",
    "## File names and file paths\n",
    "\n",
    "A file name usually has two parts, the name and the file extension, separated with a dot (name.extension)\n",
    "\n",
    "e.g. hello.txt data.json myimage.jpg\n",
    "\n",
    "Paths can be expressed as either relative or absolute\n",
    "- **Absolute:** Full path to access a file or folder. example: c:\\users\\rober\\desktop\\myfile.txt\n",
    "- **Relative:** Relative from the current active folder: example: data\\data.json\n",
    "\n",
    "## file modes\n",
    "Its possible to open a file in python in different modes:\n",
    "- **'r':** for reading\n",
    "-**'w':** for writing (overwriting everything in file)\n",
    "-**'a':** for adding/appending to text"
   ]
  },
  {
   "cell_type": "markdown",
   "metadata": {},
   "source": [
    "## Open file for reading"
   ]
  },
  {
   "cell_type": "code",
   "execution_count": null,
   "metadata": {},
   "outputs": [],
   "source": [
    "file = open(\"..\\Data\\hello.txt\")\n",
    "\n",
    "content = file.read()\n",
    "\n",
    "print(content)\n",
    "\n",
    "file.close()\n"
   ]
  },
  {
   "cell_type": "markdown",
   "metadata": {},
   "source": [
    "## Open with context management"
   ]
  },
  {
   "cell_type": "code",
   "execution_count": null,
   "metadata": {},
   "outputs": [],
   "source": [
    "with open(\"..\\data\\hello.txt\") as file:\n",
    "    content = file.read()\n",
    "    print(content)\n"
   ]
  },
  {
   "cell_type": "markdown",
   "metadata": {},
   "source": [
    "## Open file for writing"
   ]
  },
  {
   "cell_type": "code",
   "execution_count": null,
   "metadata": {},
   "outputs": [],
   "source": [
    "new_content = input(\"enter text\")\n",
    "\n",
    "with open(\"..\\data\\hello.txt\", \"a\") as file:\n",
    "    file.write(new_content + '\\n')\n",
    "\n"
   ]
  },
  {
   "cell_type": "markdown",
   "metadata": {},
   "source": [
    "## miniuppgift\n",
    "Skapa ett program(loop) som har en tom lista. när programmet körs får användaren mata in namn(input) i en loop tills användaren matar in en tom rad. när den är klar så skriver alla amn ut på skärmen, samt sparas till en fil"
   ]
  },
  {
   "cell_type": "code",
   "execution_count": 7,
   "metadata": {},
   "outputs": [
    {
     "name": "stdout",
     "output_type": "stream",
     "text": [
      "nils\n",
      "jakob\n",
      "gurra\n",
      "sune\n",
      "\n",
      "namn som matats in:\n",
      "Tja\n",
      "Tjena\n",
      "gurra\n",
      "leif\n",
      "leffe\n",
      "steffe\n",
      "namnen har lagts till i listan\n"
     ]
    }
   ],
   "source": [
    "with open(\"..\\\\Data\\\\namnlista.txt\", \"r\") as file:\n",
    "    namn_lista = file.read()\n",
    "\n",
    "print(namn_lista)\n",
    "\n",
    "namn = namn_lista.split('\\n')\n",
    "\n",
    "namn_lista = []\n",
    "\n",
    "while True: \n",
    "    namn = input(\"Mata in namn: \")\n",
    "    if not namn:\n",
    "        break\n",
    "    namn_lista.append(namn)\n",
    "\n",
    "\n",
    "print(\"namn som matats in:\")\n",
    "\n",
    "for namn in namn_lista:\n",
    "    print(namn)\n",
    "\n",
    "with open(\"..\\\\Data\\\\namnlista.txt\", \"w\") as file:\n",
    "    for namn in namn_lista:\n",
    "        file.writelines(namn + \"\\n\")\n",
    "\n",
    "print(\"namnen har lagts till i listan\")"
   ]
  },
  {
   "cell_type": "markdown",
   "metadata": {},
   "source": [
    "l ## Write **.csv** file\n"
   ]
  },
  {
   "cell_type": "code",
   "execution_count": 4,
   "metadata": {},
   "outputs": [
    {
     "ename": "SyntaxError",
     "evalue": "invalid syntax (1086899020.py, line 2)",
     "output_type": "error",
     "traceback": [
      "\u001b[1;36m  Cell \u001b[1;32mIn[4], line 2\u001b[1;36m\u001b[0m\n\u001b[1;33m    (\"name\": \"adam\": \"class\": \"AI23\": \"email\": \"adam@gmail.com\"),\u001b[0m\n\u001b[1;37m           ^\u001b[0m\n\u001b[1;31mSyntaxError\u001b[0m\u001b[1;31m:\u001b[0m invalid syntax\n"
     ]
    }
   ],
   "source": [
    "students = [\n",
    "    (\"name\": \"adam\": \"class\": \"AI23\": \"email\": \"adam@gmail.com\"),\n",
    "    (\"name\": \"kalle\": \"class\": \"AI23\": \"email\": \"kalle@gmail.com\"),\n",
    "    (\"name\": \"eva\": \"class\": \"AI23\": \"email\": \"eva@gmail.com\")\n",
    "]\n",
    "\n",
    "print(students)\n",
    "\n",
    "with open(\"..\\\\data\\\\students.csv\", \"w\") as file:\n",
    "    for student in students:\n",
    "        print(f\"{student['name']}, {student['class']}, {student['email']}\")"
   ]
  },
  {
   "cell_type": "markdown",
   "metadata": {},
   "source": [
    "## Using csv package"
   ]
  },
  {
   "cell_type": "code",
   "execution_count": 6,
   "metadata": {},
   "outputs": [
    {
     "name": "stdout",
     "output_type": "stream",
     "text": [
      "[{'name': 'adam', 'class': ' AI23', 'email': ' adam@gmail.com'}, {'name': 'kalle', 'class': ' AI23', 'email': ' kalle@gmail.com'}, {'name': 'eva', 'class': ' AI23', 'email': ' eva@gmail.com'}]\n"
     ]
    }
   ],
   "source": [
    "import csv\n",
    "\n",
    "students = []\n",
    "\n",
    "with open(\"..\\\\Data\\\\students.csv\") as file:\n",
    "    reader = csv.DictReader(file)\n",
    "\n",
    "    for row in reader:\n",
    "        students.append({\"name\": row[\"name\"], \"class\": row[\"class\"], \"email\": row[\"email\"]})\n",
    "\n",
    "print(students)"
   ]
  },
  {
   "cell_type": "markdown",
   "metadata": {},
   "source": [
    "## Json serialization and de-serialization"
   ]
  },
  {
   "cell_type": "code",
   "execution_count": null,
   "metadata": {},
   "outputs": [],
   "source": [
    "# this is a dictionary and we are going to serialize \"it\"\n",
    "\n",
    "import json\n",
    "\n",
    "teacher = {\n",
    "    \"firstname\": \"Fredrik\", \n",
    "    \"lastname\": \"Johansson\", \n",
    "    \"age\": 42,\n",
    "    \"languages\": [\"Python\", \"C#\", \"Javascript\"],\n",
    "    \"contactinfo\": {\n",
    "        \"phone\": \"0702345678\",\n",
    "        \"email\": [\n",
    "            \"fredrik@everyloop.com\", \n",
    "            \"fredrik@gmail.com\", \n",
    "            \"fredrik.johansson@hotmail.com\",\n",
    "        ]\n",
    "    }\n",
    "}\n",
    "\n",
    "serialized_data = json.dumps(teacher, indent=4)\n",
    "\n",
    "# print(serialized_data)\n",
    "\n",
    "with open(\"..\\\\Data\\\\teacher.json\", \"w\") as file:\n",
    "    file.write(serialized_data)\n",
    "    "
   ]
  },
  {
   "cell_type": "code",
   "execution_count": null,
   "metadata": {},
   "outputs": [],
   "source": [
    "with open(\"..\\\\Data\\\\teacher.json\", \"r\") as file:\n",
    "    data = file.read()\n",
    "\n",
    "teacher = json.loads(data)\n",
    "\n",
    "print(teacher)"
   ]
  }
 ],
 "metadata": {
  "kernelspec": {
   "display_name": "Python-JoakimRoberg-Gg7RWbSB",
   "language": "python",
   "name": "python3"
  },
  "language_info": {
   "codemirror_mode": {
    "name": "ipython",
    "version": 3
   },
   "file_extension": ".py",
   "mimetype": "text/x-python",
   "name": "python",
   "nbconvert_exporter": "python",
   "pygments_lexer": "ipython3",
   "version": "3.11.5"
  },
  "orig_nbformat": 4
 },
 "nbformat": 4,
 "nbformat_minor": 2
}
