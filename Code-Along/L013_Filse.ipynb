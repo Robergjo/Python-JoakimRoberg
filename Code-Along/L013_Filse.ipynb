{
 "cells": [
  {
   "cell_type": "markdown",
   "metadata": {},
   "source": [
    "# Load and save data to files\n",
    "\n",
    "We can categorize files into two main categories, text files and binary files\n",
    "- Text files stores text / characters in a human readable format\n",
    "- Binary files stores byte data (1's and 0's) that only computers understand.\n",
    "- Datasets can be found at **Kaggle**\n",
    "\n",
    "## Common text based files to store data\n",
    "- .txt = Plain english (or other languages) text.\n",
    "- .csv\n",
    "- .json"
   ]
  },
  {
   "cell_type": "code",
   "execution_count": null,
   "metadata": {},
   "outputs": [],
   "source": []
  }
 ],
 "metadata": {
  "kernelspec": {
   "display_name": "Python-JoakimRoberg-Gg7RWbSB",
   "language": "python",
   "name": "python3"
  },
  "language_info": {
   "name": "python",
   "version": "3.11.5"
  },
  "orig_nbformat": 4
 },
 "nbformat": 4,
 "nbformat_minor": 2
}
