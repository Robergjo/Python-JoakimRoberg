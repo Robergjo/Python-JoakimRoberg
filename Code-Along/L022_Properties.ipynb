{
 "cells": [
  {
   "cell_type": "markdown",
   "metadata": {},
   "source": [
    "# Properties(Plural) Property, singular. (Egenskaper/egenskap)\n",
    "- A property is a Python-construction (or OOP concept) that works simular to an attribute, with the differance that an attribute stores ( and reads )the value directly to memory, while a property uses getter and setter methods to change the value of the property.\n",
    "\n",
    "From the \"outside\" (of the class definition) when a property of an object is set, the objects internal setter method will be called to handle the operation. This method is marked in the class definition by a decorator called {name}.setter (where \"name is the name of the property)\n",
    "\n",
    "When the property is read (from the \"outside\"), the objects internal getter method will be called to return a value. The getter method is marked in the class definition by a decorator called @property"
   ]
  },
  {
   "cell_type": "code",
   "execution_count": 33,
   "metadata": {},
   "outputs": [],
   "source": [
    "class Employee:\n",
    "    def __init__(self, name, salary):\n",
    "        self.name = name\n",
    "\n",
    "        self._salary = 0 if salary < 0 else salary # Turnery-operator\n",
    "\n",
    "    @property\n",
    "    def salary(self):\n",
    "        return self._salary\n",
    "\n",
    "    @salary.setter\n",
    "    def salary(self, salary):\n",
    "        self._salary = 0 if salary < 0 else salary\n",
    "\n",
    "\n"
   ]
  },
  {
   "cell_type": "code",
   "execution_count": 34,
   "metadata": {},
   "outputs": [
    {
     "name": "stdout",
     "output_type": "stream",
     "text": [
      "0\n"
     ]
    }
   ],
   "source": [
    "employee = Employee(\"Anders\", 40000)\n",
    "employee2 = Employee(\"Lasse\", -40000)\n",
    "\n",
    "employee.salary = -5000\n",
    "print(employee.salary)\n",
    "\n",
    "# employee.set_salary = 50000\n",
    "\n",
    "# employee2.set_salary(-40000)\n",
    "\n",
    "# print(employee.get_salary())\n",
    "# print(employee2.get_salary())"
   ]
  },
  {
   "cell_type": "markdown",
   "metadata": {},
   "source": []
  }
 ],
 "metadata": {
  "kernelspec": {
   "display_name": "Python-JoakimRoberg-Gg7RWbSB",
   "language": "python",
   "name": "python3"
  },
  "language_info": {
   "codemirror_mode": {
    "name": "ipython",
    "version": 3
   },
   "file_extension": ".py",
   "mimetype": "text/x-python",
   "name": "python",
   "nbconvert_exporter": "python",
   "pygments_lexer": "ipython3",
   "version": "3.11.5"
  },
  "orig_nbformat": 4
 },
 "nbformat": 4,
 "nbformat_minor": 2
}
