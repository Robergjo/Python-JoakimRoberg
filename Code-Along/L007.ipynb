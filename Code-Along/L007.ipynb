{
 "cells": [
  {
   "cell_type": "code",
   "execution_count": 16,
   "metadata": {},
   "outputs": [
    {
     "name": "stdout",
     "output_type": "stream",
     "text": [
      "fruits = ['apple', 'lime', 'cherry', 'orange', 'apple']\n",
      "len(fruits) = 5\n",
      "fruits.count('apple') = 2\n",
      "fruits = ['apple', 'lime', 'cherry', 'orange', 'apple', 'melon', 'kiwi']\n"
     ]
    }
   ],
   "source": [
    "empty = []\n",
    "fruits = [\"apple\", \"lime\", \"cherry\", \"orange\", \"apple\"]\n",
    "more_fruits = [\"kiwi\", \"pineapple\", \"mango\"]\n",
    "\n",
    "print(f\"{fruits = }\")\n",
    "print(f\"{len(fruits) = }\")\n",
    "print(f\"{fruits.count('apple') = }\")\n",
    "\n",
    "fruits.append('melon')\n",
    "fruits.append('kiwi')\n",
    "print(f\"{fruits = }\")\n",
    "\n",
    "fruits += more_fruits"
   ]
  },
  {
   "cell_type": "markdown",
   "metadata": {},
   "source": [
    "# Lists\n",
    "- lists are on of 4 buildt-in data types in python used to store collections of data, the other 3 are tuple, set, and dictionary, all with different qualities and usage.\n",
    "Lists are used to store multiple items in a single variable\n",
    "list are created using square brackets: []\n",
    "List items are ordered, changeable (mutable), and allow duplicate values\n"
   ]
  },
  {
   "cell_type": "code",
   "execution_count": 12,
   "metadata": {},
   "outputs": [
    {
     "name": "stdout",
     "output_type": "stream",
     "text": [
      "List of colors you entered: ['red', 'white', 'green']\n",
      "3\n"
     ]
    }
   ],
   "source": [
    "# create a list to store colors\n",
    "colors = []\n",
    "\n",
    "# define the number of colors you enter\n",
    "num_colors = int(input(\"how many colors do you want to input? \"))\n",
    "\n",
    "# loop to get input from the user\n",
    "for i in range(num_colors):\n",
    "    color = input(\"Enter color {}:\" .format(i + 1))\n",
    "    colors.append(color)\n",
    "\n",
    "# display the list of colors\n",
    "print(\"List of colors you entered:\", colors)\n",
    "print(len(colors))"
   ]
  },
  {
   "cell_type": "code",
   "execution_count": 13,
   "metadata": {},
   "outputs": [
    {
     "name": "stdout",
     "output_type": "stream",
     "text": [
      "['red', 'white', 'green', 'black', 'yes']\n",
      "5\n"
     ]
    }
   ],
   "source": [
    "colors =[]\n",
    "\n",
    "while True:\n",
    "    color = input(\"add color: \")\n",
    "\n",
    "    if not color:\n",
    "        break\n",
    "\n",
    "    colors.append(color)\n",
    "\n",
    "print(colors)\n",
    "print(len(colors))"
   ]
  },
  {
   "cell_type": "markdown",
   "metadata": {},
   "source": [
    "# Indexering\n",
    "- List items are indexed, the first item has index[0], the second item has index [1] etc.\n",
    "- Make sure the index exists or the program will crash with a **index out of range message**\n",
    "- Negative indexing: [-1] refers to the last item, [-2] refers to the second last item etc.\n",
    "- Slicing: Specifying a range of indexes returns a new list with the specified items.: [start:stop:step(optional)]"
   ]
  },
  {
   "cell_type": "code",
   "execution_count": 27,
   "metadata": {},
   "outputs": [
    {
     "name": "stdout",
     "output_type": "stream",
     "text": [
      "fruits[0] = 'apple'\n",
      "fruits[-1] = 'mango'\n",
      "fruits[2:5] = ['cherry', 'orange', 'apple']\n",
      "fruits[:5] = ['apple', 'lime', 'cherry', 'orange', 'apple']\n",
      "fruits[5:] = ['melon', 'kiwi', 'kiwi', 'pineapple', 'mango']\n",
      "fruits[:] = ['apple', 'lime', 'cherry', 'orange', 'apple', 'melon', 'kiwi', 'kiwi', 'pineapple', 'mango']\n",
      "fruits[::2] = ['apple', 'cherry', 'apple', 'kiwi', 'pineapple']\n"
     ]
    }
   ],
   "source": [
    "print(f\"{fruits[0] = }\")\n",
    "print(f\"{fruits[-1] = }\")\n",
    "print(f\"{fruits[2:5] = }\")\n",
    "print(f\"{fruits[:5] = }\")\n",
    "print(f\"{fruits[5:] = }\")\n",
    "print(f\"{fruits[:] = }\")\n",
    "print(f\"{fruits[::2] = }\")"
   ]
  },
  {
   "cell_type": "markdown",
   "metadata": {},
   "source": [
    "# Looping through a list"
   ]
  },
  {
   "cell_type": "code",
   "execution_count": 32,
   "metadata": {},
   "outputs": [
    {
     "name": "stdout",
     "output_type": "stream",
     "text": [
      "apple, lime, cherry, orange, apple, melon, "
     ]
    }
   ],
   "source": [
    "for fruit in fruits[:-4]:\n",
    "    print(fruit, end=\", \")\n"
   ]
  },
  {
   "cell_type": "code",
   "execution_count": 33,
   "metadata": {},
   "outputs": [
    {
     "name": "stdout",
     "output_type": "stream",
     "text": [
      "0: melon\n",
      "1: melon\n",
      "2: melon\n",
      "3: melon\n",
      "4: melon\n",
      "5: melon\n",
      "6: melon\n",
      "7: melon\n",
      "8: melon\n",
      "9: melon\n"
     ]
    }
   ],
   "source": [
    "counter = 0\n",
    "for fruits in fruits:\n",
    "    print(f\"{counter}: {fruit}\")\n",
    "    counter += 1\n"
   ]
  },
  {
   "cell_type": "code",
   "execution_count": 34,
   "metadata": {},
   "outputs": [
    {
     "name": "stdout",
     "output_type": "stream",
     "text": [
      "0: m\n",
      "1: a\n"
     ]
    }
   ],
   "source": [
    "for index, fruit in enumerate(fruits[:-3],):\n",
    "    print(f\"{index}: {fruit}\")"
   ]
  },
  {
   "cell_type": "markdown",
   "metadata": {},
   "source": [
    "# List comprehension\n",
    "List comprehension offers a shorter syntax when you want to create a new list based on the values of an existing list.\n",
    "\n",
    "**Basic Syntax:** [item for item in my_list]\n",
    "\n",
    "**Syntax with condition:** []\n",
    "\n",
    "Example:\n",
    "\n",
    "Based on a list of fruits, you want a new list, containing only the fruits with the letter \"a\" in the name.\n",
    "\n",
    "Without list comprehension you will have to write a for statement with a conditional test inside:\n"
   ]
  },
  {
   "cell_type": "code",
   "execution_count": 40,
   "metadata": {},
   "outputs": [
    {
     "name": "stdout",
     "output_type": "stream",
     "text": [
      "['apple', 'banana', 'mango']\n"
     ]
    }
   ],
   "source": [
    "fruits = [\"apple\", \"banana\", \"kiwi\", \"mango\", \"beetroot\"]\n",
    "\n",
    "fruits_with_a = [fruit for fruit in fruits if \"a\" in fruit]\n",
    "\n",
    "print(fruits_with_a)"
   ]
  },
  {
   "cell_type": "code",
   "execution_count": 41,
   "metadata": {},
   "outputs": [
    {
     "name": "stdout",
     "output_type": "stream",
     "text": [
      "x = [0, 1, 2, 3, 4, 5, 6, 7, 8, 9]\n",
      "y = [0, 2, 4, 6, 8, 10, 12, 14, 16, 18]\n"
     ]
    }
   ],
   "source": [
    "x = list(range(10))\n",
    "print(f\"{x = }\")\n",
    "\n",
    "y = [item*2 for item in x]\n",
    "print(f\"{y = }\")"
   ]
  },
  {
   "cell_type": "code",
   "execution_count": 49,
   "metadata": {},
   "outputs": [
    {
     "name": "stdout",
     "output_type": "stream",
     "text": [
      "List of fruits you entered: ['apple', 'orange', 'kiwi', 'strawberry', 'mango', 'coconut', [...], [...], [...]] !\n",
      "7\n"
     ]
    }
   ],
   "source": [
    "# mini-övning 2\n",
    "fruits = [\"apple\", \"orange\", \"kiwi\", \"strawberry\", \"mango\", \"coconut\"]\n",
    "\n",
    "num_fruits = int(input(\"how many fruits do you want to input?\"))\n",
    "\n",
    "for i in range(num_fruits):\n",
    "    fruit = input(\"Enter fruit {}:\" .format(i + 1))\n",
    "    fruits.append(fruits)\n",
    "\n",
    "print(\"List of fruits you entered:\", fruits, \"!\")\n",
    "print(len(\"fruits\" + \"!\"))"
   ]
  },
  {
   "cell_type": "code",
   "execution_count": 46,
   "metadata": {},
   "outputs": [
    {
     "name": "stdout",
     "output_type": "stream",
     "text": [
      "new_fruits = ['apple!', 'orange!', 'kiwi!', 'strawberry!', 'mango!', 'coconut!']\n"
     ]
    }
   ],
   "source": [
    "# mini-övning 2 lösning:\n",
    "\n",
    "fruits = [\"apple\", \"orange\", \"kiwi\", \"strawberry\", \"mango\", \"coconut\"]\n",
    "new_fruits = [fruit + \"!\" for fruit in fruits]\n",
    "print(f\"{new_fruits = }\")"
   ]
  },
  {
   "cell_type": "code",
   "execution_count": 50,
   "metadata": {},
   "outputs": [
    {
     "name": "stdout",
     "output_type": "stream",
     "text": [
      "helloworld\n"
     ]
    }
   ],
   "source": [
    "# concaternate examples\n",
    "\n",
    "print(\"hello\" + \"world\")"
   ]
  },
  {
   "cell_type": "code",
   "execution_count": 58,
   "metadata": {},
   "outputs": [
    {
     "name": "stdout",
     "output_type": "stream",
     "text": [
      "new_fruits = ['apple']\n"
     ]
    }
   ],
   "source": [
    "# miniövning 3a)\n",
    "\n",
    "fruits = [\"apple\", \"banana\", \"cherry\", \"orange\", \"kiwi\"]\n",
    "new_fruits = [fruit for fruit in fruits if len(fruit) == 5]\n",
    "print(f\"{new_fruits = }\")"
   ]
  },
  {
   "cell_type": "code",
   "execution_count": 57,
   "metadata": {},
   "outputs": [
    {
     "name": "stdout",
     "output_type": "stream",
     "text": [
      "0,2,4,6,8,10,12,14,16,18,20,22,24,26,28,30,32,34,36,38,40,42,44,46,48,50,52,54,56,58,60,62,64,66,68,70,72,74,76,78,80,82,84,86,88,90,92,94,96,98,100,"
     ]
    }
   ],
   "source": [
    "# miniövning 3 b)\n",
    "\n",
    "for i in range(0, 101):\n",
    "    if i % 2 == 0:\n",
    "        print(i, end= \",\")"
   ]
  }
 ],
 "metadata": {
  "kernelspec": {
   "display_name": "Python 3",
   "language": "python",
   "name": "python3"
  },
  "language_info": {
   "codemirror_mode": {
    "name": "ipython",
    "version": 3
   },
   "file_extension": ".py",
   "mimetype": "text/x-python",
   "name": "python",
   "nbconvert_exporter": "python",
   "pygments_lexer": "ipython3",
   "version": "3.11.5"
  },
  "orig_nbformat": 4
 },
 "nbformat": 4,
 "nbformat_minor": 2
}
