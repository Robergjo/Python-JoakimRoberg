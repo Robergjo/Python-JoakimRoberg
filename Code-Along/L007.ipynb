{
 "cells": [
  {
   "cell_type": "code",
   "execution_count": 2,
   "metadata": {},
   "outputs": [
    {
     "name": "stdout",
     "output_type": "stream",
     "text": [
      "fruits = ['apple', 'banana', 'cherry', 'orange', 'apple']\n",
      "len(fruits) = 5\n",
      "fruits.count('apple') = 2\n",
      "fruits = ['apple', 'banana', 'cherry', 'orange', 'apple', 'melon', 'kiwi']\n"
     ]
    }
   ],
   "source": [
    "empty = []\n",
    "fruits = [\"apple\", \"banana\", \"cherry\", \"orange\", \"apple\"]\n",
    "more_fruits = [\"kiwi\", \"pineapple\", \"mango\"]\n",
    "\n",
    "print(f\"{fruits = }\")\n",
    "print(f\"{len(fruits) = }\")\n",
    "print(f\"{fruits.count('apple') = }\")\n",
    "\n",
    "fruits.append('melon')\n",
    "fruits.append('kiwi')\n",
    "print(f\"{fruits = }\")\n",
    "\n",
    "fruits += more_fruits"
   ]
  },
  {
   "cell_type": "code",
   "execution_count": 12,
   "metadata": {},
   "outputs": [
    {
     "name": "stdout",
     "output_type": "stream",
     "text": [
      "List of colors you entered: ['red', 'white', 'green']\n",
      "3\n"
     ]
    }
   ],
   "source": [
    "# create a list to store colors\n",
    "colors = []\n",
    "\n",
    "# define the number of colors you enter\n",
    "num_colors = int(input(\"how many colors do you want to input? \"))\n",
    "\n",
    "# loop to get input from the user\n",
    "for i in range(num_colors):\n",
    "    color = input(\"Enter color {}:\" .format(i + 1))\n",
    "    colors.append(color)\n",
    "\n",
    "# display the list of colors\n",
    "print(\"List of colors you entered:\", colors)\n",
    "print(len(colors))"
   ]
  },
  {
   "cell_type": "code",
   "execution_count": 13,
   "metadata": {},
   "outputs": [
    {
     "name": "stdout",
     "output_type": "stream",
     "text": [
      "['red', 'white', 'green', 'black', 'yes']\n",
      "5\n"
     ]
    }
   ],
   "source": [
    "colors =[]\n",
    "\n",
    "while True:\n",
    "    color = input(\"add color: \")\n",
    "\n",
    "    if not color:\n",
    "        break\n",
    "\n",
    "    colors.append(color)\n",
    "\n",
    "print(colors)\n",
    "print(len(colors))"
   ]
  }
 ],
 "metadata": {
  "kernelspec": {
   "display_name": "Python 3",
   "language": "python",
   "name": "python3"
  },
  "language_info": {
   "codemirror_mode": {
    "name": "ipython",
    "version": 3
   },
   "file_extension": ".py",
   "mimetype": "text/x-python",
   "name": "python",
   "nbconvert_exporter": "python",
   "pygments_lexer": "ipython3",
   "version": "3.11.5"
  },
  "orig_nbformat": 4
 },
 "nbformat": 4,
 "nbformat_minor": 2
}
