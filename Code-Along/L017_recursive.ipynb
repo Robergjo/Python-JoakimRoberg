{
 "cells": [
  {
   "cell_type": "markdown",
   "metadata": {},
   "source": [
    "# Recursive\n",
    "var försiktig med att göra funktioner som anropar varanndra, vi kommer inte kunna ta oss ur då loopen blir oändlig.\n",
    "Man kan göra det, men då måste man skriva de recursiva anropen på rätt sätt. Det finns även M/L som baseras på recursiva anrop."
   ]
  },
  {
   "cell_type": "code",
   "execution_count": 5,
   "metadata": {},
   "outputs": [
    {
     "name": "stdout",
     "output_type": "stream",
     "text": [
      "start of main\n",
      "Start of func_b()\n",
      "End of func_b()\n",
      "Start of func_a()\n",
      "Start of func_b()\n",
      "End of func_b()\n",
      "End of func_a()\n",
      "Start of func_b()\n",
      "End of func_b()\n",
      "End of main\n"
     ]
    }
   ],
   "source": [
    "def main():\n",
    "    print(\"start of main\")\n",
    "    func_b()\n",
    "    func_a()\n",
    "    func_b()\n",
    "    print(\"End of main\")\n",
    "\n",
    "\n",
    "def func_a():\n",
    "    print(\"Start of func_a()\")\n",
    "\n",
    "    func_b()\n",
    "\n",
    "    print(\"End of func_a()\")\n",
    "\n",
    "def func_b():\n",
    "    print(\"Start of func_b()\")\n",
    "\n",
    "\n",
    "    print(\"End of func_b()\")\n",
    "\n",
    "\n",
    "main()"
   ]
  }
 ],
 "metadata": {
  "kernelspec": {
   "display_name": "Python-JoakimRoberg-Gg7RWbSB",
   "language": "python",
   "name": "python3"
  },
  "language_info": {
   "codemirror_mode": {
    "name": "ipython",
    "version": 3
   },
   "file_extension": ".py",
   "mimetype": "text/x-python",
   "name": "python",
   "nbconvert_exporter": "python",
   "pygments_lexer": "ipython3",
   "version": "3.11.5"
  },
  "orig_nbformat": 4
 },
 "nbformat": 4,
 "nbformat_minor": 2
}
