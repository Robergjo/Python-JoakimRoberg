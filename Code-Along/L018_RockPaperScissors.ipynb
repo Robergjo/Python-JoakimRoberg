{
 "cells": [
  {
   "cell_type": "code",
   "execution_count": 2,
   "metadata": {},
   "outputs": [
    {
     "ename": "SyntaxError",
     "evalue": "expected ':' (4185550849.py, line 47)",
     "output_type": "error",
     "traceback": [
      "\u001b[1;36m  Cell \u001b[1;32mIn[2], line 47\u001b[1;36m\u001b[0m\n\u001b[1;33m    if sign_a == sign_b\u001b[0m\n\u001b[1;37m                       ^\u001b[0m\n\u001b[1;31mSyntaxError\u001b[0m\u001b[1;31m:\u001b[0m expected ':'\n"
     ]
    }
   ],
   "source": [
    "from random import choice\n",
    "\n",
    "SIGNS = [\"rock\", \"paper\", \"scissors\"]\n",
    "\n",
    "def main():\n",
    "    print(f\"Welcome to the {', '.join(SIGNS)} game.\")\n",
    "    print_rules()\n",
    "    game_loop(3)\n",
    "\n",
    "\n",
    "\n",
    "\n",
    "def print_rules():\n",
    "    print(\"\\nRules: Each player picks a sign: \")\n",
    "    for winner, loser in zip([0, 1, 2], [2, 0, 1]):\n",
    "        print(f\"{SIGNS[winner].title()} wins over {SIGNS[loser]}. \")\n",
    "\n",
    "        print(f\"Best of 3 wins. Let's start!\\n\")\n",
    "\n",
    "def game_loop(number_of_rounds):\n",
    "    for current_round in range(1, number_of_rounds + 1):\n",
    "        print(f\"\\nRound {current_round}:\")\n",
    "        sign_player_a = get_sign_from_user()\n",
    "        sign_player_b = get_sign_from_computer()\n",
    "\n",
    "    \n",
    "        if is_draw(sign_player_a, sign_player_b):\n",
    "            print(\"It's a draw!\")\n",
    "        elif wins_over(sign_player_a, sign_player_b):\n",
    "            print(\"User wins!\")\n",
    "        else:\n",
    "            print(\"Computer wins!\")\n",
    "\n",
    "\n",
    "def get_sign_from_user():\n",
    "    while True:\n",
    "        sign = input(\"pick a sign: \").strip().lower()\n",
    "        if sign in SIGNS:\n",
    "            return sign\n",
    "        else: (f\"You must pick either of {', '.join(SIGNS)}\")\n",
    "                                  \n",
    "\n",
    "def get_sign_from_computer():\n",
    "    return choice(SIGNS)\n",
    "\n",
    "def is_draw(sign_a, sign_b):\n",
    "    if sign_a == sign_b\n",
    "\n",
    "def wins_over(sign_a, sign_b):\n",
    "    for winner, loser in zip([0, 1, 2], [2, 0, 1]):\n",
    "        if sign_a == SIGNS[winner] and sign_b == SIGNS[loser]: return True\n",
    "    \n",
    "    return False\n",
    "\n",
    "main()"
   ]
  }
 ],
 "metadata": {
  "kernelspec": {
   "display_name": "Python-JoakimRoberg-Gg7RWbSB",
   "language": "python",
   "name": "python3"
  },
  "language_info": {
   "codemirror_mode": {
    "name": "ipython",
    "version": 3
   },
   "file_extension": ".py",
   "mimetype": "text/x-python",
   "name": "python",
   "nbconvert_exporter": "python",
   "pygments_lexer": "ipython3",
   "version": "3.11.5"
  },
  "orig_nbformat": 4
 },
 "nbformat": 4,
 "nbformat_minor": 2
}
