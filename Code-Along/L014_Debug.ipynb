{
 "cells": [
  {
   "cell_type": "markdown",
   "metadata": {},
   "source": [
    "# Debugging\n",
    "\n",
    "- Felsökning och rättning utav kod / Finding and correcting errors in code\n",
    "\n",
    "## Break point\n",
    "\n",
    "In all IDE(Integrated Development Enviroment) the developer has the possibility to debug code by stepping through instructions one by one and look at the internal states(memory/variables) for each step\n",
    "\n",
    "We can set one or multiple break points at any line in our code. When starting the program in debug-mode, the code will run up until it hits the first breakpoint. From there we can inspect the current state of our program, and we can choose to either run or program until it fits the next breakpoint or we can use the step over function of the debugger to step one instruction at a time."
   ]
  },
  {
   "cell_type": "code",
   "execution_count": null,
   "metadata": {},
   "outputs": [],
   "source": [
    "def greet(n):\n",
    "    for i in range (n):\n",
    "        print(\"hello\")\n",
    "\n",
    "\n",
    "a = 5\n",
    "b = 3\n",
    "c = a + b\n",
    "my_list = [4, 5, 8, 8]\n",
    "my_list.append('hello')\n",
    "\n",
    "greet(b)\n",
    "print(c)\n",
    "\n"
   ]
  },
  {
   "cell_type": "markdown",
   "metadata": {},
   "source": [
    "from colorama imoirt Fore, Back, Style"
   ]
  },
  {
   "cell_type": "code",
   "execution_count": 9,
   "metadata": {},
   "outputs": [
    {
     "name": "stdout",
     "output_type": "stream",
     "text": [
      "\u001b[43m\n",
      "”29535123p48723487597645723645”:\n"
     ]
    }
   ],
   "source": [
    "from colorama import Fore, Back, Style\n",
    "\n",
    "#import colorama\n",
    "\n",
    "print(Back.YELLOW)\n",
    "print(f\"29535123p48723487597645723645:\")\n",
    "\n",
    "\n"
   ]
  },
  {
   "cell_type": "code",
   "execution_count": 14,
   "metadata": {},
   "outputs": [
    {
     "name": "stdout",
     "output_type": "stream",
     "text": [
      "Inga korrekta tal hittades.\n"
     ]
    }
   ],
   "source": [
    "import re\n",
    "\n",
    "def hitta_korrekt_tal(text):\n",
    "    # Använd ett reguljärt uttryck för att hitta alla korrekta tal\n",
    "    mönster = r'\\\\b(\\d)(\\d*)\\\\1\\\\b'\n",
    "    resultat = re.findall(mönster, text)\n",
    "\n",
    "    return [''.join(tal) for tal in resultat]\n",
    "\n",
    "# Be användaren mata in en textsträng\n",
    "användar_input = input(\"Mata in en textsträng: \")\n",
    "\n",
    "# Anropa funktionen och skriv ut resultaten\n",
    "korrekta_tal = hitta_korrekt_tal(användar_input)\n",
    "if korrekta_tal:\n",
    "    print(\"Korrekta tal som hittades:\", \", \".join(korrekta_tal))\n",
    "else:\n",
    "    print(\"Inga korrekta tal hittades.\")"
   ]
  }
 ],
 "metadata": {
  "kernelspec": {
   "display_name": "Python-JoakimRoberg-Gg7RWbSB",
   "language": "python",
   "name": "python3"
  },
  "language_info": {
   "codemirror_mode": {
    "name": "ipython",
    "version": 3
   },
   "file_extension": ".py",
   "mimetype": "text/x-python",
   "name": "python",
   "nbconvert_exporter": "python",
   "pygments_lexer": "ipython3",
   "version": "3.11.5"
  },
  "orig_nbformat": 4
 },
 "nbformat": 4,
 "nbformat_minor": 2
}
