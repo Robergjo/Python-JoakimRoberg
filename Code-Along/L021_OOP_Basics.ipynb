{
 "cells": [
  {
   "cell_type": "markdown",
   "metadata": {},
   "source": [
    "# Object oriented programmering(OOP)\n",
    "- A \"class\" is a blueprint that can be used to create objects\n",
    "- An \"instance\" is the actual object containing data and methods"
   ]
  },
  {
   "cell_type": "code",
   "execution_count": null,
   "metadata": {},
   "outputs": [],
   "source": [
    "student_a = {\"FirstName\": \"Gurra\", \"LastName\": \"Johansson\", \"Age\": 42, \"Grade\": 3.4}\n",
    "student_b = {\"FirstName\": \"Jocke\", \"LastName\": \"Roberg\", \"Age\": 27, \"Grade\": 4.3}\n",
    "\n",
    "students = [student_a, student_b]\n",
    "\n",
    "def set_grade(student, grade):\n",
    "    student[\"Grade\"] = grade\n",
    "\n",
    "def get_name(student):\n",
    "    return f'{student[\"FirstName\"]} {student[\"LastName\"]}'\n",
    "\n",
    "for student in students:\n",
    "    set_grade(student, 3.0)\n",
    "    print(get_name(student))\n",
    "\n",
    "pass"
   ]
  },
  {
   "cell_type": "code",
   "execution_count": 1,
   "metadata": {},
   "outputs": [],
   "source": [
    "class Student:\n",
    "    def __init__(self, name, grade): ## __init__ den körs när vi skapar en instans med objektet. \n",
    "        self.grade = 0.0\n",
    "        self.name = name\n",
    "    \n",
    "    def set_grade(self, grade):\n",
    "        self.grade = grade\n"
   ]
  },
  {
   "cell_type": "code",
   "execution_count": 2,
   "metadata": {},
   "outputs": [
    {
     "name": "stdout",
     "output_type": "stream",
     "text": [
      "{'grade': 0.0, 'name': 'Gurra'}\n",
      "{'grade': 0.0, 'name': 'Jocke'}\n",
      "\n",
      "{'grade': 4.7, 'name': 'Gurra'}\n",
      "{'grade': 3.1, 'name': 'Jocke'}\n"
     ]
    }
   ],
   "source": [
    "\n",
    "\n",
    "student_a = Student(\"Gurra\", 3.3)\n",
    "student_b = Student(\"Jocke\", 4.5)\n",
    "\n",
    "print(student_a.__dict__)\n",
    "print(student_b.__dict__)\n",
    "student_a.set_grade(4.7)\n",
    "student_b.set_grade(3.1)\n",
    "print()\n",
    "print(student_a.__dict__)\n",
    "print(student_b.__dict__)"
   ]
  },
  {
   "cell_type": "code",
   "execution_count": null,
   "metadata": {},
   "outputs": [],
   "source": [
    "student_b = Student()\n",
    "student_a = Student()\n",
    "\n",
    "student_b.name = \"Jocke\"\n",
    "student_b.age = 27\n",
    "\n",
    "student_a.name = \"Gurra\"\n",
    "\n",
    "print(student_a.name)\n",
    "print(student_b.name)\n",
    "print(student_b.__dict__)"
   ]
  },
  {
   "cell_type": "code",
   "execution_count": null,
   "metadata": {},
   "outputs": [],
   "source": [
    "class str:\n",
    "    def upper(self):\n",
    "        ...\n",
    "        \n",
    "name = \"Jocke\"\n",
    "\n",
    "name.upper()"
   ]
  },
  {
   "cell_type": "code",
   "execution_count": 9,
   "metadata": {},
   "outputs": [],
   "source": [
    "my_cat = {\"name\": \"Misse\", \"age\": 3}\n",
    "my_other_cat = {\"name\": \"Kisse\", \"age\": 4}\n",
    "\n",
    "class Cat:\n",
    "    def __init__(self, name, age):\n",
    "        self.name = name\n",
    "        self.age = age\n",
    "\n",
    "    def greet(self):\n",
    "        print(f\"Hello, im {self.name}, and Im {self.age} years old\")"
   ]
  },
  {
   "cell_type": "code",
   "execution_count": null,
   "metadata": {},
   "outputs": [],
   "source": []
  },
  {
   "cell_type": "markdown",
   "metadata": {},
   "source": []
  }
 ],
 "metadata": {
  "kernelspec": {
   "display_name": "Python-JoakimRoberg-Gg7RWbSB",
   "language": "python",
   "name": "python3"
  },
  "language_info": {
   "codemirror_mode": {
    "name": "ipython",
    "version": 3
   },
   "file_extension": ".py",
   "mimetype": "text/x-python",
   "name": "python",
   "nbconvert_exporter": "python",
   "pygments_lexer": "ipython3",
   "version": "3.11.5"
  },
  "orig_nbformat": 4
 },
 "nbformat": 4,
 "nbformat_minor": 2
}
