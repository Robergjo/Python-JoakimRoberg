{
 "cells": [
  {
   "cell_type": "markdown",
   "metadata": {},
   "source": [
    "# Object oriented programmering(OOP)\n",
    "- A \"class\" is a blueprint that can be used to create objects\n",
    "- An \"instance\" is the actual object containing data and methods. ( De enskilda objekten  som t ex, Namn och ålder )"
   ]
  },
  {
   "cell_type": "code",
   "execution_count": null,
   "metadata": {},
   "outputs": [],
   "source": [
    "student_a = {\"FirstName\": \"Gurra\", \"LastName\": \"Johansson\", \"Age\": 42, \"Grade\": 3.4}\n",
    "student_b = {\"FirstName\": \"Jocke\", \"LastName\": \"Roberg\", \"Age\": 27, \"Grade\": 4.3}\n",
    "\n",
    "students = [student_a, student_b]\n",
    "\n",
    "def set_grade(student, grade):\n",
    "    student[\"Grade\"] = grade\n",
    "\n",
    "def get_name(student):\n",
    "    return f'{student[\"FirstName\"]} {student[\"LastName\"]}'\n",
    "\n",
    "for student in students:\n",
    "    set_grade(student, 3.0)\n",
    "    print(get_name(student))\n",
    "\n",
    "pass"
   ]
  },
  {
   "cell_type": "code",
   "execution_count": 1,
   "metadata": {},
   "outputs": [],
   "source": [
    "class Student:\n",
    "    def __init__(self, name, grade): ## __init__ den körs när vi skapar en instans med objektet. \n",
    "        self.grade = 0.0\n",
    "        self.name = name\n",
    "    \n",
    "    def set_grade(self, grade):\n",
    "        self.grade = grade\n"
   ]
  },
  {
   "cell_type": "code",
   "execution_count": 2,
   "metadata": {},
   "outputs": [
    {
     "name": "stdout",
     "output_type": "stream",
     "text": [
      "{'grade': 0.0, 'name': 'Gurra'}\n",
      "{'grade': 0.0, 'name': 'Jocke'}\n",
      "\n",
      "{'grade': 4.7, 'name': 'Gurra'}\n",
      "{'grade': 3.1, 'name': 'Jocke'}\n"
     ]
    }
   ],
   "source": [
    "\n",
    "\n",
    "student_a = Student(\"Gurra\", 3.3)\n",
    "student_b = Student(\"Jocke\", 4.5)\n",
    "\n",
    "print(student_a.__dict__)\n",
    "print(student_b.__dict__)\n",
    "student_a.set_grade(4.7)\n",
    "student_b.set_grade(3.1)\n",
    "print()\n",
    "print(student_a.__dict__)\n",
    "print(student_b.__dict__)"
   ]
  },
  {
   "cell_type": "code",
   "execution_count": null,
   "metadata": {},
   "outputs": [],
   "source": [
    "student_b = Student()\n",
    "student_a = Student()\n",
    "\n",
    "student_b.name = \"Jocke\"\n",
    "student_b.age = 27\n",
    "\n",
    "student_a.name = \"Gurra\"\n",
    "\n",
    "print(student_a.name)\n",
    "print(student_b.name)\n",
    "print(student_b.__dict__)"
   ]
  },
  {
   "cell_type": "code",
   "execution_count": null,
   "metadata": {},
   "outputs": [],
   "source": [
    "class str:\n",
    "    def upper(self):\n",
    "        ...\n",
    "        \n",
    "name = \"Jocke\"\n",
    "\n",
    "name.upper()"
   ]
  },
  {
   "cell_type": "code",
   "execution_count": 1,
   "metadata": {},
   "outputs": [
    {
     "ename": "IndentationError",
     "evalue": "expected an indented block after 'if' statement on line 10 (2425406601.py, line 11)",
     "output_type": "error",
     "traceback": [
      "\u001b[1;36m  Cell \u001b[1;32mIn[1], line 11\u001b[1;36m\u001b[0m\n\u001b[1;33m    print(f\"Hi {other.name}, my name is {self.name}, and im {self.age-other.age} year older than you\")\u001b[0m\n\u001b[1;37m    ^\u001b[0m\n\u001b[1;31mIndentationError\u001b[0m\u001b[1;31m:\u001b[0m expected an indented block after 'if' statement on line 10\n"
     ]
    }
   ],
   "source": [
    "\n",
    "class Cat:\n",
    "    def __init__(self, name, age):\n",
    "        self.name = name\n",
    "        self.age = age\n",
    "\n",
    "    def greet(self, other = None, third = None):\n",
    "        if other == \"\":\n",
    "            print(f\"Hello, im {self.name}, and Im {self.age} years old\")\n",
    "        else:\n",
    "            if other.age < self.age:\n",
    "                print(f\"Hi {other.name}, my name is {self.name}, and im {self.age-other.age} year older than you.\")\n",
    "            elif other.age == self.age:\n",
    "                print(f\"Hi {other.name}, my name is {self.name}, and we're both {self.age} year old.\")\n",
    "            else:\n",
    "                print(f\"Hi {other.name}, my name is {self.name}, and im {other.age-self.age} years younger\")\n",
    "\n",
    "        \n",
    "    \n"
   ]
  },
  {
   "cell_type": "code",
   "execution_count": 2,
   "metadata": {},
   "outputs": [
    {
     "ename": "NameError",
     "evalue": "name 'Cat' is not defined",
     "output_type": "error",
     "traceback": [
      "\u001b[1;31m---------------------------------------------------------------------------\u001b[0m",
      "\u001b[1;31mNameError\u001b[0m                                 Traceback (most recent call last)",
      "\u001b[1;32mc:\\Users\\Rober\\Documents\\GitHub\\Python-JoakimRoberg\\Code-Along\\L021_OOP_Basics.ipynb Cell 8\u001b[0m line \u001b[0;36m1\n\u001b[1;32m----> <a href='vscode-notebook-cell:/c%3A/Users/Rober/Documents/GitHub/Python-JoakimRoberg/Code-Along/L021_OOP_Basics.ipynb#X10sZmlsZQ%3D%3D?line=0'>1</a>\u001b[0m my_cat \u001b[39m=\u001b[39m Cat(\u001b[39m\"\u001b[39m\u001b[39mMisse\u001b[39m\u001b[39m\"\u001b[39m, \u001b[39m3\u001b[39m)\n\u001b[0;32m      <a href='vscode-notebook-cell:/c%3A/Users/Rober/Documents/GitHub/Python-JoakimRoberg/Code-Along/L021_OOP_Basics.ipynb#X10sZmlsZQ%3D%3D?line=1'>2</a>\u001b[0m my_other_cat \u001b[39m=\u001b[39m Cat(\u001b[39m\"\u001b[39m\u001b[39mKisse\u001b[39m\u001b[39m\"\u001b[39m, \u001b[39m2\u001b[39m)\n\u001b[0;32m      <a href='vscode-notebook-cell:/c%3A/Users/Rober/Documents/GitHub/Python-JoakimRoberg/Code-Along/L021_OOP_Basics.ipynb#X10sZmlsZQ%3D%3D?line=2'>3</a>\u001b[0m my_third_cat \u001b[39m=\u001b[39m Cat(\u001b[39m\"\u001b[39m\u001b[39mMjau\u001b[39m\u001b[39m\"\u001b[39m, \u001b[39m5\u001b[39m)\n",
      "\u001b[1;31mNameError\u001b[0m: name 'Cat' is not defined"
     ]
    }
   ],
   "source": [
    "my_cat = Cat(\"Misse\", 3)\n",
    "my_other_cat = Cat(\"Kisse\", 2)\n",
    "my_third_cat = Cat(\"Mjau\", 5)\n",
    "my_fourth_cat = Cat(\"Jens\", 3)\n",
    "\n",
    "my_cat.best_friend = my_third_cat\n",
    "my_third_cat.best_friend = my_cat\n",
    "\n",
    "cats = [my_cat, my_other_cat, my_third_cat, my_fourth_cat]\n",
    "\n",
    "for cat in cats:\n",
    "    cat.print_best_friend()\n",
    "    \n",
    "\n",
    "my_cat.greet()\n",
    "my_other_cat.greet()"
   ]
  },
  {
   "cell_type": "markdown",
   "metadata": {},
   "source": []
  }
 ],
 "metadata": {
  "kernelspec": {
   "display_name": "Python-JoakimRoberg-Gg7RWbSB",
   "language": "python",
   "name": "python3"
  },
  "language_info": {
   "codemirror_mode": {
    "name": "ipython",
    "version": 3
   },
   "file_extension": ".py",
   "mimetype": "text/x-python",
   "name": "python",
   "nbconvert_exporter": "python",
   "pygments_lexer": "ipython3",
   "version": "3.11.5"
  },
  "orig_nbformat": 4
 },
 "nbformat": 4,
 "nbformat_minor": 2
}
