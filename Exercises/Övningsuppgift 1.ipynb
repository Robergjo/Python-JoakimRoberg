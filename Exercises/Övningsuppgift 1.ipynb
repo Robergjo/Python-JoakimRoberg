{
 "cells": [
  {
   "cell_type": "markdown",
   "metadata": {},
   "source": [
    "# Övningsuppgift 1\n",
    "## Count with python"
   ]
  },
  {
   "cell_type": "code",
   "execution_count": 1,
   "metadata": {},
   "outputs": [
    {
     "name": "stdout",
     "output_type": "stream",
     "text": [
      "5.0\n"
     ]
    }
   ],
   "source": [
    "import math\n",
    "\n",
    "side_a = 3\n",
    "side_b = 4\n",
    "\n",
    "c_squared = side_a**2 + side_b**2\n",
    "\n",
    "c = math.sqrt(c_squared)\n",
    "\n",
    "print(c)\n",
    "\n"
   ]
  },
  {
   "cell_type": "code",
   "execution_count": 5,
   "metadata": {},
   "outputs": [
    {
     "name": "stdout",
     "output_type": "stream",
     "text": [
      "8.6000\n",
      "8.6023\n"
     ]
    }
   ],
   "source": [
    "side_c = 7.0\n",
    "side_a = 5.0\n",
    "\n",
    "b_squared = side_c**2 + side_a**2\n",
    "\n",
    "b = math.sqrt(b_squared)\n",
    "\n",
    "print(f\"{round(b, 1) :.4f}\")\n",
    "print(f\"{b:.4f}\")"
   ]
  }
 ],
 "metadata": {
  "kernelspec": {
   "display_name": "Python-JoakimRoberg-Gg7RWbSB",
   "language": "python",
   "name": "python3"
  },
  "language_info": {
   "codemirror_mode": {
    "name": "ipython",
    "version": 3
   },
   "file_extension": ".py",
   "mimetype": "text/x-python",
   "name": "python",
   "nbconvert_exporter": "python",
   "pygments_lexer": "ipython3",
   "version": "3.11.5"
  },
  "orig_nbformat": 4
 },
 "nbformat": 4,
 "nbformat_minor": 2
}
