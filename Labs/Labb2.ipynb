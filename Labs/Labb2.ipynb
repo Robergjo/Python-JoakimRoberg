{
 "cells": [
  {
   "cell_type": "code",
   "execution_count": null,
   "metadata": {},
   "outputs": [],
   "source": [
    "import csv\n",
    "\n",
    "Pokemons = []\n",
    "\n",
    "with open(\"..\\\\Data\\\\datapoints.csv\") as file:\n",
    "    reader = csv.DictReader(file)\n",
    "\n",
    "    for row in reader[0]:\n",
    "        Pokemons.append({\"width\": row[\"width\"], \"length\": row[\"length\"], \"label\": row[\"label\"]})\n",
    "\n",
    "\n",
    "with open(\"..\\\\Data\\\\testpoints.csv\") as file:\n",
    "    reader = csv.DictReader(file)\n",
    "\n",
    "    for row in reader[0]:\n",
    "        Pokemons.append({\"width\": row[\"width\"], \"length\": row[\"length\"], \"label\": row[\"label\"]})\n"
   ]
  },
  {
   "cell_type": "code",
   "execution_count": null,
   "metadata": {},
   "outputs": [],
   "source": [
    "import pandas as pd\n",
    "import matplotlib.pyplot as plt\n",
    "\n",
    "# inte klar än, måste komma på hur jag läser in datan..\n",
    "data = pd.read_csv(\"..\\\\Data\\\\datapoints.csv\")\n",
    "\n",
    "print(data.head())\n",
    "\n",
    "# dela upp datan\n",
    "\n",
    "pikachu_data = data[data['class'] == 'Pikachu']\n",
    "pichu_data = data[data['class'] == 'Pichu']\n",
    "\n",
    "# plotta datapunkterna för Pikachu och Pichuu i rött & blått\n",
    "plt.scatter(pikachu_data['length'], pikachu_data['width'], c='red', label='pikachu')\n",
    "\n",
    "plt.scatter(pichu_data['length'], pichu_data['width'], c='blue', label='pichu')\n",
    "\n",
    "plt.xlabel(\"length\")\n",
    "plt.ylabel(\"width\")\n",
    "plt.legend()\n",
    "\n",
    "plt.show()\n"
   ]
  },
  {
   "cell_type": "code",
   "execution_count": 1,
   "metadata": {},
   "outputs": [
    {
     "ename": "NameError",
     "evalue": "name 'pd' is not defined",
     "output_type": "error",
     "traceback": [
      "\u001b[1;31m---------------------------------------------------------------------------\u001b[0m",
      "\u001b[1;31mNameError\u001b[0m                                 Traceback (most recent call last)",
      "\u001b[1;32mc:\\Users\\Rober\\Documents\\GitHub\\Python-JoakimRoberg\\Labs\\Labb2.ipynb Cell 3\u001b[0m line \u001b[0;36m1\n\u001b[1;32m----> <a href='vscode-notebook-cell:/c%3A/Users/Rober/Documents/GitHub/Python-JoakimRoberg/Labs/Labb2.ipynb#W2sZmlsZQ%3D%3D?line=0'>1</a>\u001b[0m \u001b[39mprint\u001b[39m(pd\u001b[39m.\u001b[39m__version__)\n",
      "\u001b[1;31mNameError\u001b[0m: name 'pd' is not defined"
     ]
    }
   ],
   "source": [
    "print(pd.__version__)"
   ]
  }
 ],
 "metadata": {
  "kernelspec": {
   "display_name": "Python-JoakimRoberg-Gg7RWbSB",
   "language": "python",
   "name": "python3"
  },
  "language_info": {
   "codemirror_mode": {
    "name": "ipython",
    "version": 3
   },
   "file_extension": ".py",
   "mimetype": "text/x-python",
   "name": "python",
   "nbconvert_exporter": "python",
   "pygments_lexer": "ipython3",
   "version": "3.11.5"
  },
  "orig_nbformat": 4
 },
 "nbformat": 4,
 "nbformat_minor": 2
}
