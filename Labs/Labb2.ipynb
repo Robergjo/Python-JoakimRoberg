{
 "cells": [
  {
   "cell_type": "code",
   "execution_count": null,
   "metadata": {},
   "outputs": [],
   "source": [
    "import csv\n",
    "\n",
    "Pokemons = []\n",
    "\n",
    "with open(\"..\\\\Data\\\\datapoints.csv\") as file:\n",
    "    reader = csv.DictReader(file)\n",
    "\n",
    "    for row in reader[0]:\n",
    "        Pokemons.append({\"width\": row[\"width\"], \"length\": row[\"length\"], \"label\": row[\"label\"]})\n",
    "\n",
    "\n",
    "with open(\"..\\\\Data\\\\testpoints.csv\") as file:\n",
    "    reader = csv.DictReader(file)\n",
    "\n",
    "    for row in reader[0]:\n",
    "        Pokemons.append({\"width\": row[\"width\"], \"length\": row[\"length\"], \"label\": row[\"label\"]})\n"
   ]
  },
  {
   "cell_type": "code",
   "execution_count": 6,
   "metadata": {},
   "outputs": [
    {
     "ename": "ModuleNotFoundError",
     "evalue": "No module named 'pandas'",
     "output_type": "error",
     "traceback": [
      "\u001b[1;31m---------------------------------------------------------------------------\u001b[0m",
      "\u001b[1;31mModuleNotFoundError\u001b[0m                       Traceback (most recent call last)",
      "Cell \u001b[1;32mIn[6], line 1\u001b[0m\n\u001b[1;32m----> 1\u001b[0m \u001b[39mimport\u001b[39;00m \u001b[39mpandas\u001b[39;00m \u001b[39mas\u001b[39;00m \u001b[39mpd\u001b[39;00m\n\u001b[0;32m      2\u001b[0m \u001b[39mimport\u001b[39;00m \u001b[39mmatplotlib\u001b[39;00m\u001b[39m.\u001b[39;00m\u001b[39mpyplot\u001b[39;00m \u001b[39mas\u001b[39;00m \u001b[39mplt\u001b[39;00m\n\u001b[0;32m      4\u001b[0m \u001b[39m# inte klar än, måste komma på hur jag läser in datan..\u001b[39;00m\n",
      "\u001b[1;31mModuleNotFoundError\u001b[0m: No module named 'pandas'"
     ]
    }
   ],
   "source": [
    "import pandas as pd\n",
    "import matplotlib.pyplot as plt\n",
    "\n",
    "# inte klar än, måste komma på hur jag läser in datan..\n",
    "data = pd.read_csv(\"..\\\\Data\\\\datapoints.csv\")\n",
    "\n",
    "print(data.head())\n",
    "\n",
    "# dela upp datan\n",
    "\n",
    "pikachu_data = data[data['class'] == 'Pikachu']\n",
    "pichu_data = data[data['class'] == 'Pichu']\n",
    "\n",
    "# plotta datapunkterna för Pikachu och Pichuu i rött & blått\n",
    "plt.scatter(pikachu_data['length'], pikachu_data['width'], c='red', label='pikachu')\n",
    "\n",
    "plt.scatter(pichu_data['length'], pichu_data['width'], c='blue', label='pichu')\n",
    "\n",
    "plt.xlabel(\"length\")\n",
    "plt.ylabel(\"width\")\n",
    "plt.legend()\n",
    "\n",
    "plt.show()\n"
   ]
  }
 ],
 "metadata": {
  "kernelspec": {
   "display_name": "Python-JoakimRoberg-Gg7RWbSB",
   "language": "python",
   "name": "python3"
  },
  "language_info": {
   "codemirror_mode": {
    "name": "ipython",
    "version": 3
   },
   "file_extension": ".py",
   "mimetype": "text/x-python",
   "name": "python",
   "nbconvert_exporter": "python",
   "pygments_lexer": "ipython3",
   "version": "3.11.5"
  },
  "orig_nbformat": 4
 },
 "nbformat": 4,
 "nbformat_minor": 2
}
