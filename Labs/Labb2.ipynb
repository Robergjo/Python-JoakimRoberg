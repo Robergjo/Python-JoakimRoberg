{
 "cells": [
  {
   "cell_type": "code",
   "execution_count": 16,
   "metadata": {},
   "outputs": [
    {
     "ename": "KeyError",
     "evalue": "'width (cm)'",
     "output_type": "error",
     "traceback": [
      "\u001b[1;31m---------------------------------------------------------------------------\u001b[0m",
      "\u001b[1;31mKeyError\u001b[0m                                  Traceback (most recent call last)",
      "\u001b[1;32mc:\\Users\\Rober\\Documents\\GitHub\\Python-JoakimRoberg\\Labs\\Labb2.ipynb Cell 1\u001b[0m line \u001b[0;36m9\n\u001b[0;32m      <a href='vscode-notebook-cell:/c%3A/Users/Rober/Documents/GitHub/Python-JoakimRoberg/Labs/Labb2.ipynb#W0sZmlsZQ%3D%3D?line=5'>6</a>\u001b[0m reader \u001b[39m=\u001b[39m csv\u001b[39m.\u001b[39mDictReader(csvfile)\n\u001b[0;32m      <a href='vscode-notebook-cell:/c%3A/Users/Rober/Documents/GitHub/Python-JoakimRoberg/Labs/Labb2.ipynb#W0sZmlsZQ%3D%3D?line=7'>8</a>\u001b[0m \u001b[39mfor\u001b[39;00m row \u001b[39min\u001b[39;00m reader:\n\u001b[1;32m----> <a href='vscode-notebook-cell:/c%3A/Users/Rober/Documents/GitHub/Python-JoakimRoberg/Labs/Labb2.ipynb#W0sZmlsZQ%3D%3D?line=8'>9</a>\u001b[0m     width \u001b[39m=\u001b[39m row[\u001b[39m'\u001b[39;49m\u001b[39mwidth (cm)\u001b[39;49m\u001b[39m'\u001b[39;49m]\n\u001b[0;32m     <a href='vscode-notebook-cell:/c%3A/Users/Rober/Documents/GitHub/Python-JoakimRoberg/Labs/Labb2.ipynb#W0sZmlsZQ%3D%3D?line=9'>10</a>\u001b[0m     height \u001b[39m=\u001b[39m row[\u001b[39m'\u001b[39m\u001b[39mheight (cm)\u001b[39m\u001b[39m'\u001b[39m]\n\u001b[0;32m     <a href='vscode-notebook-cell:/c%3A/Users/Rober/Documents/GitHub/Python-JoakimRoberg/Labs/Labb2.ipynb#W0sZmlsZQ%3D%3D?line=10'>11</a>\u001b[0m     label \u001b[39m=\u001b[39m row[\u001b[39m'\u001b[39m\u001b[39mlabel\u001b[39m\u001b[39m'\u001b[39m]\n",
      "\u001b[1;31mKeyError\u001b[0m: 'width (cm)'"
     ]
    }
   ],
   "source": [
    "import csv\n",
    "import matplotlib.pyplot as plt\n",
    "\n",
    "Pokemons = []\n",
    "\n",
    "with open(\"..\\\\Data\\\\datapoints.csv\", newline='') as csvfile:\n",
    "    reader = csv.DictReader(csvfile)\n",
    "\n",
    "    for row in reader:\n",
    "        width = row['width (cm)']\n",
    "        height = row['height (cm)']\n",
    "        label = row['label']\n",
    "        \n",
    "        Pokemons.append({'width (cm)': width, 'height (cm)': height, 'label': label})\n",
    "\n",
    "for row in Pokemons:\n",
    "    print(row)\n",
    "\n",
    "#Här skall datan (datapoints.csv) in men kan inte öppna filen\n",
    "#Pokemons = [ \n",
    "    {}\n",
    "]\n",
    "\n",
    "# uppdelning av data\n",
    "pikachu_data = [point for point in Pokemons if point ['label'] == 1]\n",
    "pichu_data = [point for point in Pokemons if point ['label'] == 0]\n",
    "\n",
    "# plotta datapunkter för pikachu och pichu i rött/blåttt\n",
    "plt.scatter(pikachu_data['length'], pikachu_data['width'], c='red', label='pikachu')\n",
    "\n",
    "plt.scatter(pichu_data['length'], pichu_data['width'], c='blue', label='pichu')\n",
    "\n",
    "plt.xlabel('height (cm)')\n",
    "plt.ylabel('width (cm)')\n",
    "plt.legend()\n",
    "\n",
    "plt.show()\n",
    "\n",
    "test_data = [(25, 32), (24.2, 31.5), (22, 34), (20.5, 34)]\n",
    "\n",
    "# klassifierings lista\n",
    "classification = []\n",
    "\n",
    "for point in test_data:\n",
    "    width, height = point\n",
    "\n",
    "    if width > 23 and height > 32:\n",
    "        label = \"Pikachu\"\n",
    "    else:\n",
    "        label = \"Pichu\"\n",
    "    \n",
    "    classification.append(label)\n",
    "\n",
    "for i, point in enumerate(test_data):\n",
    "    print(f\"Testpunkt {i+1}: {point} är klassificerad som {classification[i]}\")\n"
   ]
  },
  {
   "cell_type": "code",
   "execution_count": null,
   "metadata": {},
   "outputs": [],
   "source": []
  },
  {
   "cell_type": "code",
   "execution_count": null,
   "metadata": {},
   "outputs": [],
   "source": []
  }
 ],
 "metadata": {
  "kernelspec": {
   "display_name": "Python-JoakimRoberg-Gg7RWbSB",
   "language": "python",
   "name": "python3"
  },
  "language_info": {
   "codemirror_mode": {
    "name": "ipython",
    "version": 3
   },
   "file_extension": ".py",
   "mimetype": "text/x-python",
   "name": "python",
   "nbconvert_exporter": "python",
   "pygments_lexer": "ipython3",
   "version": "3.11.5"
  },
  "orig_nbformat": 4
 },
 "nbformat": 4,
 "nbformat_minor": 2
}
